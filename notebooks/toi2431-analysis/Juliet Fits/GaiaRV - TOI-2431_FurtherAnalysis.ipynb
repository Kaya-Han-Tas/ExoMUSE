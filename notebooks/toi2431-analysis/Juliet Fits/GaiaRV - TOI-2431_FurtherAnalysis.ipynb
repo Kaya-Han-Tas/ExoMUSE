{
 "cells": [
  {
   "cell_type": "code",
   "execution_count": 1,
   "id": "ae4fdacd-0dcd-42aa-8f7f-0e97c52c668b",
   "metadata": {},
   "outputs": [],
   "source": [
    "#We import the necessary libraries.\n",
    "%matplotlib inline"
   ]
  },
  {
   "cell_type": "code",
   "execution_count": 2,
   "id": "2f8e8c51-f88c-4d46-aa12-960f5c6cb1ea",
   "metadata": {},
   "outputs": [],
   "source": [
    "import os"
   ]
  },
  {
   "cell_type": "code",
   "execution_count": 3,
   "id": "ec7b2477-4f46-4ed4-ac60-e0ac46d40c87",
   "metadata": {},
   "outputs": [],
   "source": [
    "import matplotlib\n",
    "import matplotlib.pyplot as plt\n",
    "import numpy as np\n",
    "import pandas as pd\n",
    "from scipy import optimize\n",
    "from importlib import reload"
   ]
  },
  {
   "cell_type": "code",
   "execution_count": 4,
   "id": "760da7ca-0eaf-4486-aa6e-f0acdad9a349",
   "metadata": {},
   "outputs": [],
   "source": [
    "import corner"
   ]
  },
  {
   "cell_type": "code",
   "execution_count": 5,
   "id": "7cfe1c1e-137e-4f1f-8385-26be7f582bb2",
   "metadata": {},
   "outputs": [],
   "source": [
    "import radvel"
   ]
  },
  {
   "cell_type": "code",
   "execution_count": 6,
   "id": "a9a0c617-699c-43a5-a0d0-a8c73b2425f5",
   "metadata": {},
   "outputs": [],
   "source": [
    "from matplotlib import rcParams\n",
    "\n",
    "#We change the formatting of the plots.\n",
    "    #rcParams[\"axes.formatter.useoffset\"] = False => Disabling the automatic offset for tick labels, since its False\n",
    "#full numbers will be displayed.\n",
    "    #rcParams['axes.formatter.limits'] = -15,15 => If the tick labels are outside of range (-15, 15) Matplotlib will\n",
    "#use Scientific Notation.\n",
    "    #rcParams['mathtext.fontset'] = 'stix' => \"STIX\" font will be used for mathematical symbols, this font is used \n",
    "#in publications.\n",
    "    #rcParams['font.family'] = 'STIXGeneral' => \"STIXGeneral\" is a part of the font family, ensures the text and\n",
    "#labels also use this font.\n",
    "    #rcParams['xtick.direction']='in' => This changes the direction of the x-axis tick marks to point inward,\n",
    "#towards the plot area.\n",
    "    #rcParams['ytick.direction']='in' => This changes the direction of the y-axis tick marks to point inward,\n",
    "#towards the plot area.\n",
    "rcParams[\"axes.formatter.useoffset\"] = False\n",
    "rcParams['axes.formatter.limits'] = -15,15\n",
    "rcParams['mathtext.fontset'] = 'stix'\n",
    "rcParams['font.family'] = 'STIXGeneral'\n",
    "rcParams['xtick.direction']='in'\n",
    "rcParams['ytick.direction']='in'\n",
    "\n",
    "#import sys\n",
    "#sys.path.pop(0)\n",
    "\n",
    "#from IPython.core.interactiveshell import InteractiveShell\n",
    "#InteractiveShell.ast_node_interactivity = \"all\""
   ]
  },
  {
   "cell_type": "code",
   "execution_count": 1,
   "id": "6d8b1b45-e5fe-4b64-86f7-32ca38500a67",
   "metadata": {},
   "outputs": [
    {
     "ename": "SyntaxError",
     "evalue": "invalid syntax. Perhaps you forgot a comma? (2507808085.py, line 3)",
     "output_type": "error",
     "traceback": [
      "\u001b[0;36m  Cell \u001b[0;32mIn[1], line 3\u001b[0;36m\u001b[0m\n\u001b[0;31m    mp = utils.msini_from_rvs(np.random.normal(8.24, 1.52, 300000)\u001b[0m\n\u001b[0m                              ^\u001b[0m\n\u001b[0;31mSyntaxError\u001b[0m\u001b[0;31m:\u001b[0m invalid syntax. Perhaps you forgot a comma?\n"
     ]
    }
   ],
   "source": [
    "#We calculate the Planet Mass using the posteriors K, Mstar, P and Eccentricity.\n",
    "#Instead of Mstar note that we sample from the reported ExoFOP radius.\n",
    "mp = utils.msini_from_rvs(np.random.normal(8.24, 1.52, 300000)\n",
    "                          np.random.normal(0.6400000,0.0846982,300000),\n",
    "                          np.random.normal(0.2241957821, 0.0000000556, 300000),\n",
    "                          e=0,\n",
    "                          i = 90)\n",
    "\n",
    "mp"
   ]
  },
  {
   "cell_type": "code",
   "execution_count": 17,
   "id": "97c33317-af3a-4c72-a886-c77a74da8e31",
   "metadata": {},
   "outputs": [
    {
     "name": "stdout",
     "output_type": "stream",
     "text": [
      "$44.178_{-9.853}^{+10.171}$\n"
     ]
    }
   ],
   "source": [
    "#We get the Mass from the MCMC chains to convert it to Earth Mass values.\n",
    "# obj = [df_medvals[df_medvals.Labels=='mp']['values'].values[0]]\n",
    "obj = mp_title\n",
    "\n",
    "#We then extract the numbers and remove the $ and {} characters\n",
    "cleaned_str = obj.replace('$', '').replace('{', '').replace('}', '').replace('_', '').replace('mp = ', '')\n",
    "\n",
    "#Now we have to split the string by the symbols into central, lower, and upper values\n",
    "central_value, lower_error, upper_error = cleaned_str.split('-')[0], cleaned_str.split('-')[1].split('+')[0], cleaned_str.split('+')[1]\n",
    "lower_error = lower_error.replace('^', '')\n",
    "upper_error = upper_error.replace('^', '')\n",
    "\n",
    "#Now we convert all of them to floats and multiply them Earth Mass factor. (1 M_Jupiter = 317.83 M_Earth)\n",
    "factor = 317.83\n",
    "central_value = float(central_value) * factor\n",
    "lower_error = float(lower_error) * factor\n",
    "upper_error = float(upper_error) * factor\n",
    "\n",
    "#We then format it back to the original string from the output.\n",
    "mass_converted = f\"${central_value:.3f}_{{-{lower_error:.3f}}}^{{+{upper_error:.3f}}}$\"\n",
    "print(mass_converted)"
   ]
  }
 ],
 "metadata": {
  "kernelspec": {
   "display_name": "Python 3 (ipykernel)",
   "language": "python",
   "name": "python3"
  },
  "language_info": {
   "codemirror_mode": {
    "name": "ipython",
    "version": 3
   },
   "file_extension": ".py",
   "mimetype": "text/x-python",
   "name": "python",
   "nbconvert_exporter": "python",
   "pygments_lexer": "ipython3",
   "version": "3.11.9"
  }
 },
 "nbformat": 4,
 "nbformat_minor": 5
}
